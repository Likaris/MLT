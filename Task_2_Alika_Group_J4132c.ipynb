{
  "nbformat": 4,
  "nbformat_minor": 0,
  "metadata": {
    "colab": {
      "provenance": []
    },
    "kernelspec": {
      "name": "python3",
      "display_name": "Python 3"
    },
    "language_info": {
      "name": "python"
    }
  },
  "cells": [
    {
      "cell_type": "markdown",
      "source": [
        "Task 4:\n",
        "1. Download Alice in Wonderland by Lewis Carroll from Project Gutenberg's website\n",
        "http://www.gutenberg.org/files/11/11-0.txt\n",
        "2. Perform any necessary preprocessing on the text, including converting to lower case, removing stop words, numbers / non-alphabetic characters, lemmatization.\n",
        "3. Find Top 10 most important (for example, in terms of TF-IDF metric) words from each chapter in the text (not \"Alice\"); how would you name each chapter according to the identified tokens?\n",
        "4. Find the Top 10 most used verbs in sentences with Alice. What does Alice do most often?\n"
      ],
      "metadata": {
        "id": "_ATAXkcl0_9W"
      }
    },
    {
      "cell_type": "code",
      "source": [
        "import requests\n",
        "from bs4 import BeautifulSoup\n",
        "\n",
        "import nltk\n",
        "from nltk.stem import WordNetLemmatizer\n",
        "from sklearn.feature_extraction.text import TfidfVectorizer\n",
        "from nltk.corpus import wordnet as wn\n",
        "from nltk.collocations import BigramCollocationFinder\n",
        "\n",
        "import re\n",
        "from collections import Counter\n",
        "import pandas as pd\n",
        "import matplotlib.pyplot as plt"
      ],
      "metadata": {
        "id": "DtSvrCoZ61NF"
      },
      "execution_count": 96,
      "outputs": []
    },
    {
      "cell_type": "code",
      "source": [
        "nltk.download('punkt')\n",
        "nltk.download('wordnet')\n",
        "nltk.download('stopwords')\n",
        "nltk.download('averaged_perceptron_tagger')"
      ],
      "metadata": {
        "id": "hzz5eyZV7K29"
      },
      "execution_count": null,
      "outputs": []
    },
    {
      "cell_type": "code",
      "source": [
        "import codecs\n",
        "\n",
        "html = codecs.open(\"/content/drive/MyDrive/MLT LABS/Lab2/11-0.txt\", 'r', 'utf-8')\n",
        "soup = BeautifulSoup(html)\n",
        "text = soup.get_text()\n",
        "print(text[0:2000])"
      ],
      "metadata": {
        "colab": {
          "base_uri": "https://localhost:8080/"
        },
        "id": "cfa4izb7Z1It",
        "outputId": "b714efeb-1044-49b4-a23f-8ac4b49fdea2"
      },
      "execution_count": 78,
      "outputs": [
        {
          "output_type": "stream",
          "name": "stdout",
          "text": [
            "The Project Gutenberg eBook of Alice’s Adventures in Wonderland, by Lewis Carroll\r\n",
            "\r\n",
            "This eBook is for the use of anyone anywhere in the United States and\r\n",
            "most other parts of the world at no cost and with almost no restrictions\r\n",
            "whatsoever. You may copy it, give it away or re-use it under the terms\r\n",
            "of the Project Gutenberg License included with this eBook or online at\r\n",
            "www.gutenberg.org. If you are not located in the United States, you\r\n",
            "will have to check the laws of the country where you are located before\r\n",
            "using this eBook.\r\n",
            "\r\n",
            "Title: Alice’s Adventures in Wonderland\r\n",
            "\r\n",
            "Author: Lewis Carroll\r\n",
            "\r\n",
            "Release Date: January, 1991 [eBook #11]\r\n",
            "[Most recently updated: October 12, 2020]\r\n",
            "\r\n",
            "Language: English\r\n",
            "\r\n",
            "Character set encoding: UTF-8\r\n",
            "\r\n",
            "Produced by: Arthur DiBianca and David Widger\r\n",
            "\r\n",
            "*** START OF THE PROJECT GUTENBERG EBOOK ALICE’S ADVENTURES IN WONDERLAND ***\r\n",
            "\r\n",
            "[Illustration]\r\n",
            "\r\n",
            "\r\n",
            "\r\n",
            "\r\n",
            "Alice’s Adventures in Wonderland\r\n",
            "\r\n",
            "by Lewis Carroll\r\n",
            "\r\n",
            "THE MILLENNIUM FULCRUM EDITION 3.0\r\n",
            "\r\n",
            "Contents\r\n",
            "\r\n",
            " CHAPTER I.     Down the Rabbit-Hole\r\n",
            " CHAPTER II.    The Pool of Tears\r\n",
            " CHAPTER III.   A Caucus-Race and a Long Tale\r\n",
            " CHAPTER IV.    The Rabbit Sends in a Little Bill\r\n",
            " CHAPTER V.     Advice from a Caterpillar\r\n",
            " CHAPTER VI.    Pig and Pepper\r\n",
            " CHAPTER VII.   A Mad Tea-Party\r\n",
            " CHAPTER VIII.  The Queen’s Croquet-Ground\r\n",
            " CHAPTER IX.    The Mock Turtle’s Story\r\n",
            " CHAPTER X.     The Lobster Quadrille\r\n",
            " CHAPTER XI.    Who Stole the Tarts?\r\n",
            " CHAPTER XII.   Alice’s Evidence\r\n",
            "\r\n",
            "\r\n",
            "\r\n",
            "\r\n",
            "CHAPTER I.\r\n",
            "Down the Rabbit-Hole\r\n",
            "\r\n",
            "\r\n",
            "Alice was beginning to get very tired of sitting by her sister on the\r\n",
            "bank, and of having nothing to do: once or twice she had peeped into\r\n",
            "the book her sister was reading, but it had no pictures or\r\n",
            "conversations in it, “and what is the use of a book,” thought Alice\r\n",
            "“without pictures or conversations?”\r\n",
            "\r\n",
            "So she was considering in her own mind (as well as she could, for the\r\n",
            "hot day made her feel very sleepy and stupid), whether the pleasure of\r\n",
            "making a daisy-chain \n"
          ]
        }
      ]
    },
    {
      "cell_type": "code",
      "source": [
        "print(text[-1000:])"
      ],
      "metadata": {
        "colab": {
          "base_uri": "https://localhost:8080/"
        },
        "id": "84tKXGJHbLnL",
        "outputId": "6935a74a-ce2c-47d8-a62c-c211a41fd861"
      },
      "execution_count": 79,
      "outputs": [
        {
          "output_type": "stream",
          "name": "stdout",
          "text": [
            "\n",
            "Section 5. General Information About Project Gutenberg-tm electronic works\r\n",
            "\r\n",
            "Professor Michael S. Hart was the originator of the Project\r\n",
            "Gutenberg-tm concept of a library of electronic works that could be\r\n",
            "freely shared with anyone. For forty years, he produced and\r\n",
            "distributed Project Gutenberg-tm eBooks with only a loose network of\r\n",
            "volunteer support.\r\n",
            "\r\n",
            "Project Gutenberg-tm eBooks are often created from several printed\r\n",
            "editions, all of which are confirmed as not protected by copyright in\r\n",
            "the U.S. unless a copyright notice is included. Thus, we do not\r\n",
            "necessarily keep eBooks in compliance with any particular paper\r\n",
            "edition.\r\n",
            "\r\n",
            "Most people start at our website which has the main PG search\r\n",
            "facility: www.gutenberg.org\r\n",
            "\r\n",
            "This website includes information about Project Gutenberg-tm,\r\n",
            "including how to make donations to the Project Gutenberg Literary\r\n",
            "Archive Foundation, how to help produce our new eBooks, and how to\r\n",
            "subscribe to our email newsletter to hear about new eBooks.\r\n",
            "\r\n",
            "\r\n",
            "\n"
          ]
        }
      ]
    },
    {
      "cell_type": "code",
      "source": [
        "text = text.split(\"CHAPTER XII.   Alice’s Evidence\")[1]\n",
        "text = text.split(\"THE END\")[0]\n",
        "chapters = text.split(\"CHAPTER\")[1:]\n",
        "\n",
        "for i, chapter in enumerate(chapters):\n",
        "    print(f\"Chapter {i + 1}: {chapter[:200]}...\\n\")"
      ],
      "metadata": {
        "colab": {
          "base_uri": "https://localhost:8080/"
        },
        "id": "UJAzt1ispsOi",
        "outputId": "9f070801-9fbc-4892-a25f-9d5fa85421c0"
      },
      "execution_count": 80,
      "outputs": [
        {
          "output_type": "stream",
          "name": "stdout",
          "text": [
            "Chapter 1:  I.\r\n",
            "Down the Rabbit-Hole\r\n",
            "\r\n",
            "\r\n",
            "Alice was beginning to get very tired of sitting by her sister on the\r\n",
            "bank, and of having nothing to do: once or twice she had peeped into\r\n",
            "the book her sister was read...\n",
            "\n",
            "Chapter 2:  II.\r\n",
            "The Pool of Tears\r\n",
            "\r\n",
            "\r\n",
            "“Curiouser and curiouser!” cried Alice (she was so much surprised, that\r\n",
            "for the moment she quite forgot how to speak good English); “now I’m\r\n",
            "opening out like the largest...\n",
            "\n",
            "Chapter 3:  III.\r\n",
            "A Caucus-Race and a Long Tale\r\n",
            "\r\n",
            "\r\n",
            "They were indeed a queer-looking party that assembled on the bank—the\r\n",
            "birds with draggled feathers, the animals with their fur clinging close\r\n",
            "to them, and a...\n",
            "\n",
            "Chapter 4:  IV.\r\n",
            "The Rabbit Sends in a Little Bill\r\n",
            "\r\n",
            "\r\n",
            "It was the White Rabbit, trotting slowly back again, and looking\r\n",
            "anxiously about as it went, as if it had lost something; and she heard\r\n",
            "it muttering to i...\n",
            "\n",
            "Chapter 5:  V.\r\n",
            "Advice from a Caterpillar\r\n",
            "\r\n",
            "\r\n",
            "The Caterpillar and Alice looked at each other for some time in\r\n",
            "silence: at last the Caterpillar took the hookah out of its mouth, and\r\n",
            "addressed her in a languid,...\n",
            "\n",
            "Chapter 6:  VI.\r\n",
            "Pig and Pepper\r\n",
            "\r\n",
            "\r\n",
            "For a minute or two she stood looking at the house, and wondering what\r\n",
            "to do next, when suddenly a footman in livery came running out of the\r\n",
            "wood—(she considered him to be ...\n",
            "\n",
            "Chapter 7:  VII.\r\n",
            "A Mad Tea-Party\r\n",
            "\r\n",
            "\r\n",
            "There was a table set out under a tree in front of the house, and the\r\n",
            "March Hare and the Hatter were having tea at it: a Dormouse was sitting\r\n",
            "between them, fast asleep, a...\n",
            "\n",
            "Chapter 8:  VIII.\r\n",
            "The Queen’s Croquet-Ground\r\n",
            "\r\n",
            "\r\n",
            "A large rose-tree stood near the entrance of the garden: the roses\r\n",
            "growing on it were white, but there were three gardeners at it, busily\r\n",
            "painting them red. A...\n",
            "\n",
            "Chapter 9:  IX.\r\n",
            "The Mock Turtle’s Story\r\n",
            "\r\n",
            "\r\n",
            "“You can’t think how glad I am to see you again, you dear old thing!”\r\n",
            "said the Duchess, as she tucked her arm affectionately into Alice’s,\r\n",
            "and they walked off toge...\n",
            "\n",
            "Chapter 10:  X.\r\n",
            "The Lobster Quadrille\r\n",
            "\r\n",
            "\r\n",
            "The Mock Turtle sighed deeply, and drew the back of one flapper across\r\n",
            "his eyes. He looked at Alice, and tried to speak, but for a minute or\r\n",
            "two sobs choked his voice...\n",
            "\n",
            "Chapter 11:  XI.\r\n",
            "Who Stole the Tarts?\r\n",
            "\r\n",
            "\r\n",
            "The King and Queen of Hearts were seated on their throne when they\r\n",
            "arrived, with a great crowd assembled about them—all sorts of little\r\n",
            "birds and beasts, as well as t...\n",
            "\n",
            "Chapter 12:  XII.\r\n",
            "Alice’s Evidence\r\n",
            "\r\n",
            "\r\n",
            "“Here!” cried Alice, quite forgetting in the flurry of the moment how\r\n",
            "large she had grown in the last few minutes, and she jumped up in such\r\n",
            "a hurry that she tipped over...\n",
            "\n"
          ]
        }
      ]
    },
    {
      "cell_type": "code",
      "source": [
        "stop_words = nltk.corpus.stopwords.words('english')\n",
        "stop_words.append(\"alice\")"
      ],
      "metadata": {
        "id": "kW8GCqKRrwxk"
      },
      "execution_count": 81,
      "outputs": []
    },
    {
      "cell_type": "code",
      "source": [
        "tokenizer = nltk.tokenize.RegexpTokenizer('\\w+')\n",
        "lemmatizer = WordNetLemmatizer()\n",
        "clean_chapters=[]\n",
        "def preprocesse_chapter(chapter):\n",
        "  tokens = tokenizer.tokenize(chapter)\n",
        "  words = [word.lower() for word in tokens]\n",
        "  #words = [lemmatizer.lemmatize(word, pos='n') for word in words]  # singular_form 'n' specifies noun. If apply, strange 'wa' word appears\n",
        "  words = [lemmatizer.lemmatize(word, pos='v') for word in words]  # infinitive_verbs 'v' specifies verb\n",
        "\n",
        "  words_filtered = [word for word in words if word not in stop_words]\n",
        "  clean_chapters.append(' '.join(words_filtered))"
      ],
      "metadata": {
        "id": "Z2F8M--TsQ5p"
      },
      "execution_count": 82,
      "outputs": []
    },
    {
      "cell_type": "code",
      "source": [
        "for chapter in (chapters):\n",
        "  preprocesse_chapter(chapter)"
      ],
      "metadata": {
        "id": "jSXc4iNTr007"
      },
      "execution_count": 83,
      "outputs": []
    },
    {
      "cell_type": "code",
      "source": [
        "vectorizer = TfidfVectorizer(ngram_range=(1, 1))\n",
        "corpus_tf_idf = vectorizer.fit_transform(clean_chapters)\n",
        "tfidf = pd.DataFrame(corpus_tf_idf.todense())\n",
        "tfidf.columns = vectorizer.get_feature_names_out()\n",
        "tfidf_matrix = tfidf.T\n",
        "tfidf_matrix.columns = ['Chapter '+ str(i) for i in range(1, 13)]\n",
        "for i in range(1, 13):\n",
        "  print(f\"Chapter {i}\")\n",
        "  print(tfidf_matrix[f\"Chapter {i}\"].nlargest(n=10))\n",
        "  print()"
      ],
      "metadata": {
        "colab": {
          "base_uri": "https://localhost:8080/"
        },
        "id": "mTE6DOP3uHKp",
        "outputId": "1a2e9efa-95ec-4fce-ecc2-f63149ff1e24"
      },
      "execution_count": 88,
      "outputs": [
        {
          "output_type": "stream",
          "name": "stdout",
          "text": [
            "Chapter 1\n",
            "think     0.204454\n",
            "eat       0.190808\n",
            "say       0.172171\n",
            "go        0.161411\n",
            "little    0.161411\n",
            "bat       0.159237\n",
            "get       0.150650\n",
            "rabbit    0.143866\n",
            "key       0.140663\n",
            "see       0.139889\n",
            "Name: Chapter 1, dtype: float64\n",
            "\n",
            "Chapter 2\n",
            "mouse     0.338822\n",
            "go        0.219737\n",
            "say       0.198810\n",
            "pool      0.182374\n",
            "little    0.167419\n",
            "oh        0.158752\n",
            "cat       0.148432\n",
            "think     0.146491\n",
            "swim      0.143233\n",
            "cry       0.143114\n",
            "Name: Chapter 2, dtype: float64\n",
            "\n",
            "Chapter 3\n",
            "say        0.415799\n",
            "mouse      0.336597\n",
            "dodo       0.307650\n",
            "prize      0.179114\n",
            "race       0.179114\n",
            "lory       0.153825\n",
            "know       0.135135\n",
            "dry        0.121965\n",
            "thimble    0.119409\n",
            "bird       0.110593\n",
            "Name: Chapter 3, dtype: float64\n",
            "\n",
            "Chapter 4\n",
            "bill       0.233369\n",
            "rabbit     0.202604\n",
            "little     0.196057\n",
            "window     0.195839\n",
            "puppy      0.171359\n",
            "say        0.161960\n",
            "grow       0.151564\n",
            "fan        0.147165\n",
            "gloves     0.147165\n",
            "chimney    0.146879\n",
            "Name: Chapter 4, dtype: float64\n",
            "\n",
            "Chapter 5\n",
            "say            0.466604\n",
            "caterpillar    0.463698\n",
            "pigeon         0.282104\n",
            "serpent        0.211578\n",
            "egg            0.141052\n",
            "youth          0.141052\n",
            "size           0.112055\n",
            "think          0.106419\n",
            "father         0.100948\n",
            "get            0.090046\n",
            "Name: Chapter 5, dtype: float64\n",
            "\n",
            "Chapter 6\n",
            "say        0.392713\n",
            "cat        0.315330\n",
            "footman    0.297908\n",
            "baby       0.219297\n",
            "mad        0.193718\n",
            "go         0.170423\n",
            "duchess    0.154100\n",
            "grin       0.145288\n",
            "sneeze     0.129145\n",
            "wow        0.127675\n",
            "Name: Chapter 6, dtype: float64\n",
            "\n",
            "Chapter 7\n",
            "hatter      0.445814\n",
            "say         0.427859\n",
            "dormouse    0.412921\n",
            "hare        0.254642\n",
            "march       0.241896\n",
            "tea         0.145510\n",
            "go          0.124017\n",
            "time        0.111615\n",
            "twinkle     0.107054\n",
            "draw        0.097007\n",
            "Name: Chapter 7, dtype: float64\n",
            "\n",
            "Chapter 8\n",
            "queen        0.449415\n",
            "say          0.352603\n",
            "king         0.190718\n",
            "go           0.180053\n",
            "gardeners    0.172358\n",
            "look         0.157546\n",
            "hedgehog     0.150814\n",
            "soldier      0.147102\n",
            "cat          0.146331\n",
            "five         0.129521\n",
            "Name: Chapter 8, dtype: float64\n",
            "\n",
            "Chapter 9\n",
            "say        0.463072\n",
            "turtle     0.415419\n",
            "mock       0.385746\n",
            "gryphon    0.266336\n",
            "duchess    0.192207\n",
            "moral      0.156453\n",
            "queen      0.154357\n",
            "go         0.136198\n",
            "think      0.088528\n",
            "school     0.083977\n",
            "Name: Chapter 9, dtype: float64\n",
            "\n",
            "Chapter 10\n",
            "turtle       0.404760\n",
            "mock         0.377776\n",
            "gryphon      0.375413\n",
            "say          0.309641\n",
            "dance        0.266768\n",
            "beautiful    0.148412\n",
            "soup         0.148412\n",
            "lobster      0.124492\n",
            "lobsters     0.124492\n",
            "oop          0.124492\n",
            "Name: Chapter 10, dtype: float64\n",
            "\n",
            "Chapter 11\n",
            "king        0.397604\n",
            "hatter      0.357787\n",
            "say         0.328447\n",
            "court       0.289308\n",
            "dormouse    0.250734\n",
            "witness     0.224580\n",
            "jury        0.119262\n",
            "queen       0.113951\n",
            "officer     0.112290\n",
            "bread       0.096436\n",
            "Name: Chapter 11, dtype: float64\n",
            "\n",
            "Chapter 12\n",
            "say        0.445010\n",
            "king       0.382898\n",
            "jury       0.252076\n",
            "dream      0.175607\n",
            "sister     0.153656\n",
            "queen      0.144098\n",
            "write      0.144098\n",
            "would      0.106802\n",
            "rabbit     0.105771\n",
            "jurymen    0.102239\n",
            "Name: Chapter 12, dtype: float64\n",
            "\n"
          ]
        }
      ]
    },
    {
      "cell_type": "markdown",
      "source": [
        "New chapters names?\n",
        "1. Down the Rabbit-Hole - A Little Rabbit's House\n",
        "2. The Pool of Tears - First troubles and unexpected acquaintance near the water\n",
        "3. A Caucus-Race and a Long Tale - The Dodo's Prize: A Race to Remember\n",
        "4. The Rabbit Sends in a Little Bill - Little Gloves by the Chimney\n",
        "5. Advice from a Caterpillar - Caterpillar's Wisdom\n",
        "6. Pig and Pepper - Going Mad with the Grinning Cat\n",
        "7. A Mad Tea-Party - Tea party with dormouse and Hatter\n",
        "8. The Queen’s Croquet-Ground - Queen's Say\n",
        "9. The Mock Turtle’s Story - Morality from the turtle and the griffin\n",
        "10. The Lobster Quadrille - Luxurious banquet\n",
        "11. Who Stole the Tarts? - Bread court\n",
        "12. Alice’s Evidence - Jury dreams"
      ],
      "metadata": {
        "id": "RwwBq8R21omM"
      }
    },
    {
      "cell_type": "code",
      "source": [
        "tokenizer = nltk.tokenize.RegexpTokenizer('\\w+')\n",
        "lemmatizer = WordNetLemmatizer()\n",
        "\n",
        "tokens = tokenizer.tokenize(text)\n",
        "words = [word.lower() for word in tokens]\n",
        "words = [lemmatizer.lemmatize(word, pos='v') for word in words]  # infinitive_verbs 'v' specifies verb\n",
        "\n",
        "stop_words = nltk.corpus.stopwords.words('english')\n",
        "words = [word for word in words if word not in stop_words]"
      ],
      "metadata": {
        "id": "DpPIsLV0-07m"
      },
      "execution_count": 97,
      "outputs": []
    },
    {
      "cell_type": "code",
      "source": [
        "#TOP 15 verbs with Alice\n",
        "bigram_measures = nltk.collocations.BigramAssocMeasures()\n",
        "finder = BigramCollocationFinder.from_words(words)\n",
        "bigrams = finder.score_ngrams(bigram_measures.pmi)\n",
        "\n",
        "verbs = [\n",
        "    (bigram, score)\n",
        "    for idx, (bigram, score) in enumerate(bigrams)\n",
        "    if ('alice' in bigram and wn.synsets(bigram[1]) and wn.synsets(bigram[1])[0].pos() == 'v') or\n",
        "       (bigram[1] == 'alice' and wn.synsets(bigram[0]) and wn.synsets(bigram[0])[0].pos() == 'v')\n",
        "]\n",
        "\n",
        "verbs[:15]"
      ],
      "metadata": {
        "colab": {
          "base_uri": "https://localhost:8080/"
        },
        "id": "fcHXh4Tf9uXu",
        "outputId": "b0d41697-4dce-4019-b35d-3bef8db98c6f"
      },
      "execution_count": 99,
      "outputs": [
        {
          "output_type": "execute_result",
          "data": {
            "text/plain": [
              "[(('alice', 'recognise'), 4.972762267024658),\n",
              " (('alice', 'soothe'), 4.972762267024658),\n",
              " (('inquire', 'alice'), 4.972762267024658),\n",
              " (('exclaim', 'alice'), 3.972762267024658),\n",
              " (('vanish', 'alice'), 3.650834172137296),\n",
              " (('alice', 'allow'), 3.3877997663035018),\n",
              " (('plead', 'alice'), 3.3877997663035018),\n",
              " (('alice', 'attend'), 2.650834172137296),\n",
              " (('alice', 'remain'), 2.650834172137296),\n",
              " (('alice', 'wander'), 2.650834172137296),\n",
              " (('alice', 'learn'), 2.3877997663035018),\n",
              " (('alice', 'consider'), 1.650834172137296),\n",
              " (('believe', 'alice'), 1.650834172137296),\n",
              " (('alice', 'appear'), 1.5133306483873614),\n",
              " (('alice', 'ask'), 1.5133306483873614)]"
            ]
          },
          "metadata": {},
          "execution_count": 99
        }
      ]
    }
  ]
}